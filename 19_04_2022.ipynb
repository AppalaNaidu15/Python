{
  "nbformat": 4,
  "nbformat_minor": 0,
  "metadata": {
    "colab": {
      "name": "19.04.2022.ipynb",
      "provenance": [],
      "collapsed_sections": [],
      "authorship_tag": "ABX9TyMKo/gFTZigpDQaeGJeHbJh",
      "include_colab_link": true
    },
    "kernelspec": {
      "name": "python3",
      "display_name": "Python 3"
    },
    "language_info": {
      "name": "python"
    }
  },
  "cells": [
    {
      "cell_type": "markdown",
      "metadata": {
        "id": "view-in-github",
        "colab_type": "text"
      },
      "source": [
        "<a href=\"https://colab.research.google.com/github/AppalaNaidu15/Python/blob/main/19_04_2022.ipynb\" target=\"_parent\"><img src=\"https://colab.research.google.com/assets/colab-badge.svg\" alt=\"Open In Colab\"/></a>"
      ]
    },
    {
      "cell_type": "code",
      "execution_count": null,
      "metadata": {
        "id": "8tOLF4Ksepmq"
      },
      "outputs": [],
      "source": [
        "#[3,4,13,18,20] Programs"
      ]
    },
    {
      "cell_type": "code",
      "source": [
        "#Square Root\n",
        "\n",
        "num = float(input(\"Enter a number: \"))\n",
        "sqroot = num ** 0.5\n",
        "print(\"The square root of\" , num ,\"is\" , sqroot )\n",
        "\n"
      ],
      "metadata": {
        "colab": {
          "base_uri": "https://localhost:8080/"
        },
        "id": "aTh6S8Cke3QB",
        "outputId": "0484e5a8-90b9-4e28-bef1-c964a8088be2"
      },
      "execution_count": 2,
      "outputs": [
        {
          "output_type": "stream",
          "name": "stdout",
          "text": [
            "Enter a number: 49\n",
            "The square root of 49.0 is 7.0\n"
          ]
        }
      ]
    },
    {
      "cell_type": "code",
      "source": [
        "#Area of a triangle {Sides}\n",
        "\n",
        "a = int(input(\"Enter first side: \"))\n",
        "b = int(input(\"Enter second side: \"))\n",
        "c = int(input(\"Enter third side: \"))\n",
        "\n",
        "s = (a + b + c) / 2\n",
        "area = (s*(s - a)*(s - b)*(s - c)) ** 0.5\n",
        "\n",
        "print(\"Area of the triangle is: \" , area)"
      ],
      "metadata": {
        "colab": {
          "base_uri": "https://localhost:8080/"
        },
        "id": "BYvpttWQhtno",
        "outputId": "590f8dd0-57f6-4f68-8860-f0f0c31521b0"
      },
      "execution_count": 6,
      "outputs": [
        {
          "output_type": "stream",
          "name": "stdout",
          "text": [
            "Enter first side: 5\n",
            "Enter second side: 6\n",
            "Enter third side: 7\n",
            "Area of the triangle is:  14.696938456699069\n"
          ]
        }
      ]
    },
    {
      "cell_type": "code",
      "source": [
        "#Largest number\n",
        "\n",
        "\n",
        "a = int(input(\"Enter first number : \"))\n",
        "b = int(input(\"Enter second number: \"))\n",
        "c = int(input(\"Enter third number : \"))\n",
        "\n",
        "if (a >= b) and (a>= c):\n",
        "   largest = a\n",
        "elif (b >= a) and (b >= c):\n",
        "  largest = b\n",
        "else:\n",
        "  largest = c\n",
        "\n",
        "print (\"Largest number is :\" , largest)   "
      ],
      "metadata": {
        "colab": {
          "base_uri": "https://localhost:8080/"
        },
        "id": "Xb18kCKZhtqH",
        "outputId": "8dbf303a-6def-499c-dccb-12c798ad37a4"
      },
      "execution_count": 7,
      "outputs": [
        {
          "output_type": "stream",
          "name": "stdout",
          "text": [
            "Enter first number : 5\n",
            "Enter second number: 6\n",
            "Enter third number : 8\n",
            "Largest number is : 8\n"
          ]
        }
      ]
    },
    {
      "cell_type": "code",
      "source": [
        "#Armstrong number\n",
        "\n",
        "lower = int(input(\"Enter lower number:\"))\n",
        "upper = int(input(\"Enter upper number:\"))\n",
        "\n",
        "for num in range(lower, upper + 1):\n",
        "\n",
        "   order = len(str(num))\n",
        "    \n",
        "   sum = 0\n",
        "\n",
        "   temp = num\n",
        "   while temp > 0:\n",
        "       digit = temp % 10\n",
        "       sum += digit ** order\n",
        "       temp //= 10\n",
        "\n",
        "   if num == sum:\n",
        "       print(num)\n"
      ],
      "metadata": {
        "colab": {
          "base_uri": "https://localhost:8080/"
        },
        "id": "YhaX7n4ekg7v",
        "outputId": "4a466c4d-2a28-4d69-ec05-c9281836be11"
      },
      "execution_count": 9,
      "outputs": [
        {
          "output_type": "stream",
          "name": "stdout",
          "text": [
            "Enter lower number:6\n",
            "Enter upper number:32\n",
            "6\n",
            "7\n",
            "8\n",
            "9\n"
          ]
        }
      ]
    },
    {
      "cell_type": "code",
      "source": [
        "#Fibonacci sequence\n",
        "\n",
        "x = int(input())\n",
        "\n",
        "n1, n2 = 0, 1\n",
        "count = 0\n",
        "\n",
        "if x <= 0:\n",
        "   print(\"Enter a positive number:\")\n",
        "elif x == 1:\n",
        "   print(\"Fibonacci sequence upto\", x ,\":\")\n",
        "   print(n1)\n",
        "else:\n",
        "   print(\"Fibonacci sequence:\")\n",
        "   while count < x:\n",
        "       print(n1)\n",
        "       nth = n1 + n2\n",
        "\n",
        "       n1 = n2\n",
        "       n2 = nth\n",
        "       count += 1"
      ],
      "metadata": {
        "colab": {
          "base_uri": "https://localhost:8080/"
        },
        "id": "9L7jrGJRkhh-",
        "outputId": "82e3cd33-079b-4353-fe81-ebe024cff2d7"
      },
      "execution_count": 12,
      "outputs": [
        {
          "output_type": "stream",
          "name": "stdout",
          "text": [
            "6\n",
            "Fibonacci sequence:\n",
            "0\n",
            "1\n",
            "1\n",
            "2\n",
            "3\n",
            "5\n"
          ]
        }
      ]
    }
  ]
}