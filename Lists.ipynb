{
  "nbformat": 4,
  "nbformat_minor": 0,
  "metadata": {
    "colab": {
      "name": "Lists.ipynb",
      "provenance": [],
      "authorship_tag": "ABX9TyN3/UV2i7eNoJKz6DyerR2r",
      "include_colab_link": true
    },
    "kernelspec": {
      "name": "python3",
      "display_name": "Python 3"
    },
    "language_info": {
      "name": "python"
    }
  },
  "cells": [
    {
      "cell_type": "markdown",
      "metadata": {
        "id": "view-in-github",
        "colab_type": "text"
      },
      "source": [
        "<a href=\"https://colab.research.google.com/github/AppalaNaidu15/Python/blob/main/Lists.ipynb\" target=\"_parent\"><img src=\"https://colab.research.google.com/assets/colab-badge.svg\" alt=\"Open In Colab\"/></a>"
      ]
    },
    {
      "cell_type": "code",
      "execution_count": null,
      "metadata": {
        "id": "RwPNRLvRSwZA"
      },
      "outputs": [],
      "source": [
        "a = [\"MY\",\"KK\",\"YG\",\"KA\",\"KP\",\"RF\"]\n",
        "print(a)\n",
        "a.append(\"KJ\")\n",
        "a.insert(2,\"YU\")\n",
        "print(a)\n",
        "print(len(a))\n",
        "a.remove(\"YG\")\n",
        "print(a)\n",
        "print(a[2])\n",
        "print(a[-1])\n",
        "print(a[1:3])\n",
        "print(a[:4])\n",
        "a.pop(3)\n",
        "print(a)\n",
        "\n"
      ]
    },
    {
      "cell_type": "code",
      "source": [
        "\n",
        "a = [\"Golf\"]\n",
        "print(\"Given list:\",a)\n",
        "a.append(\"Hockey\")\n",
        "a.append(\"Tennis\")\n",
        "a.insert(2,\"Cricket\")\n",
        "a.insert(3,\"Chess\")\n",
        "a.append(\"Carrom\")\n",
        "print(a)\n",
        "a.remove(\"Golf\")\n",
        "print(\"After removing 1 element:\",a)\n",
        "del a[1:3]\n",
        "print(\"After removing 2 elements:\",a)\n",
        "\n",
        "\n"
      ],
      "metadata": {
        "colab": {
          "base_uri": "https://localhost:8080/"
        },
        "id": "s_f8C1l0acUE",
        "outputId": "bc60f614-b352-4179-c3c0-cb595e3b2e64"
      },
      "execution_count": 60,
      "outputs": [
        {
          "output_type": "stream",
          "name": "stdout",
          "text": [
            "Given list: ['Golf']\n",
            "['Golf', 'Hockey', 'Cricket', 'Chess', 'Tennis', 'Carrom']\n",
            "After removing 1 element: ['Hockey', 'Cricket', 'Chess', 'Tennis', 'Carrom']\n",
            "After removing 2 elements: ['Hockey', 'Tennis', 'Carrom']\n"
          ]
        }
      ]
    },
    {
      "cell_type": "code",
      "source": [
        ""
      ],
      "metadata": {
        "id": "-FWiBsr6WULx"
      },
      "execution_count": null,
      "outputs": []
    }
  ]
}