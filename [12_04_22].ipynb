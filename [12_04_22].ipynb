{
  "nbformat": 4,
  "nbformat_minor": 0,
  "metadata": {
    "colab": {
      "name": "12.04.22[15,17,21,38,52,63,97,95].ipynb",
      "provenance": [],
      "collapsed_sections": [],
      "authorship_tag": "ABX9TyOuogEmrb6qccP55TONK8nU",
      "include_colab_link": true
    },
    "kernelspec": {
      "name": "python3",
      "display_name": "Python 3"
    },
    "language_info": {
      "name": "python"
    }
  },
  "cells": [
    {
      "cell_type": "markdown",
      "metadata": {
        "id": "view-in-github",
        "colab_type": "text"
      },
      "source": [
        "<a href=\"https://colab.research.google.com/github/AppalaNaidu15/Python/blob/main/%5B12_04_22%5D.ipynb\" target=\"_parent\"><img src=\"https://colab.research.google.com/assets/colab-badge.svg\" alt=\"Open In Colab\"/></a>"
      ]
    },
    {
      "cell_type": "code",
      "execution_count": null,
      "metadata": {
        "id": "2S0-vhM2PZFT"
      },
      "outputs": [],
      "source": [
        "#Print all prime numbers between two mumbers with interval\n",
        " \n",
        "lower = 100\n",
        "upper = 200\n",
        "\n",
        "for num in range (lower, upper + 1):\n",
        "  if num > 1:\n",
        "    for i in range(2, num):\n",
        "      if(num % i) == 0:\n",
        "        break\n",
        "    else:\n",
        "      print(num)"
      ]
    },
    {
      "cell_type": "code",
      "source": [
        "#Multiplication Table\n",
        "\n",
        "num = int(input())\n",
        "\n",
        "for i in range(1, 11):\n",
        "  print(num, \"x\", i, \"=\", num*i)"
      ],
      "metadata": {
        "colab": {
          "base_uri": "https://localhost:8080/"
        },
        "id": "s3EoF-wASW1P",
        "outputId": "4efa168e-3092-427f-ea6a-242ffbbcd69e"
      },
      "execution_count": 29,
      "outputs": [
        {
          "output_type": "stream",
          "name": "stdout",
          "text": [
            "65\n",
            "65 x 1 = 65\n",
            "65 x 2 = 130\n",
            "65 x 3 = 195\n",
            "65 x 4 = 260\n",
            "65 x 5 = 325\n",
            "65 x 6 = 390\n",
            "65 x 7 = 455\n",
            "65 x 8 = 520\n",
            "65 x 9 = 585\n",
            "65 x 10 = 650\n"
          ]
        }
      ]
    },
    {
      "cell_type": "code",
      "source": [
        "#Sum of natural numbers upto num\n",
        "\n",
        "num = int(input())\n",
        "\n",
        "if num < 0:\n",
        "  print(\"Enter a positive number!!\")\n",
        "else:\n",
        "  sum = 0\n",
        "  while(num > 0):\n",
        "    sum +=  num\n",
        "    num -= 1\n",
        "  print(\"The sum is:\", sum)"
      ],
      "metadata": {
        "id": "1UDNXJH8SW4Q"
      },
      "execution_count": null,
      "outputs": []
    },
    {
      "cell_type": "code",
      "source": [
        "#Program to slice lists\n",
        "\n",
        "my_list = [1, 2, 3, 4, 5]\n",
        "\n",
        "print(my_list[2:5])"
      ],
      "metadata": {
        "id": "bpiRQLkAXby0"
      },
      "execution_count": null,
      "outputs": []
    },
    {
      "cell_type": "code",
      "source": [
        "#Remove an element that is duplicate in a list\n",
        "\n",
        "list_1 = [1, 2, 3, 1, 8]\n",
        "\n",
        "print(list(set(list_1)))"
      ],
      "metadata": {
        "colab": {
          "base_uri": "https://localhost:8080/"
        },
        "id": "9h-d_JPsXb1N",
        "outputId": "47ec0d15-b37f-46fc-9a9d-37a2ea403441"
      },
      "execution_count": 27,
      "outputs": [
        {
          "output_type": "stream",
          "name": "stdout",
          "text": [
            "[8, 1, 2, 3]\n"
          ]
        }
      ]
    },
    {
      "cell_type": "code",
      "source": [
        "#Remove the elements that are duplicate in two lists\n",
        "\n",
        "list_1 = [5, 6, 9, 8]\n",
        "list_2 = [1, 2, 3, 9]\n",
        "\n",
        "print(list(set(list_1)^set(list_2)))"
      ],
      "metadata": {
        "colab": {
          "base_uri": "https://localhost:8080/"
        },
        "id": "j3MNUdYAXb3l",
        "outputId": "971b4837-5565-4e00-a33b-5d7bfa0caddd"
      },
      "execution_count": 28,
      "outputs": [
        {
          "output_type": "stream",
          "name": "stdout",
          "text": [
            "[1, 2, 3, 5, 6, 8]\n"
          ]
        }
      ]
    },
    {
      "cell_type": "code",
      "source": [
        ""
      ],
      "metadata": {
        "id": "qVKsszirXb58"
      },
      "execution_count": null,
      "outputs": []
    },
    {
      "cell_type": "code",
      "source": [
        ""
      ],
      "metadata": {
        "id": "RO14lZ_MXb77"
      },
      "execution_count": null,
      "outputs": []
    }
  ]
}